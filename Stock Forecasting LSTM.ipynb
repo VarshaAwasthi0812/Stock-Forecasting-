{
 "cells": [
  {
   "cell_type": "markdown",
   "id": "9b763fb6",
   "metadata": {},
   "source": [
    "# Importing Libraries"
   ]
  },
  {
   "cell_type": "code",
   "execution_count": 33,
   "id": "66c15125",
   "metadata": {},
   "outputs": [],
   "source": [
    "import numpy as np\n",
    "import pandas as pd \n",
    "from keras.layers import Dense\n",
    "from keras.layers import Dropout\n",
    "from keras.layers import LSTM\n",
    "from keras.models import Sequential\n",
    "from sklearn.preprocessing import MinMaxScaler\n",
    "import matplotlib.pyplot as plt"
   ]
  },
  {
   "cell_type": "markdown",
   "id": "1b81f71a",
   "metadata": {},
   "source": [
    "# Fetching Data and PreProcessing"
   ]
  },
  {
   "cell_type": "code",
   "execution_count": 34,
   "id": "74ef2c16",
   "metadata": {},
   "outputs": [
    {
     "data": {
      "text/plain": [
       "(1258, 7)"
      ]
     },
     "execution_count": 34,
     "metadata": {},
     "output_type": "execute_result"
    }
   ],
   "source": [
    "#Distinct dataset for training and testing\n",
    "prices_dataset_train =  pd.read_csv('SP500_train.csv')\n",
    "prices_dataset_train.shape"
   ]
  },
  {
   "cell_type": "code",
   "execution_count": 35,
   "id": "1a1bc3a6",
   "metadata": {},
   "outputs": [
    {
     "data": {
      "text/plain": [
       "(20, 7)"
      ]
     },
     "execution_count": 35,
     "metadata": {},
     "output_type": "execute_result"
    }
   ],
   "source": [
    "prices_dataset_test =  pd.read_csv('SP500_test.csv')\n",
    "prices_dataset_test.shape"
   ]
  },
  {
   "cell_type": "code",
   "execution_count": 36,
   "id": "64c239d2",
   "metadata": {},
   "outputs": [
    {
     "data": {
      "text/html": [
       "<div>\n",
       "<style scoped>\n",
       "    .dataframe tbody tr th:only-of-type {\n",
       "        vertical-align: middle;\n",
       "    }\n",
       "\n",
       "    .dataframe tbody tr th {\n",
       "        vertical-align: top;\n",
       "    }\n",
       "\n",
       "    .dataframe thead th {\n",
       "        text-align: right;\n",
       "    }\n",
       "</style>\n",
       "<table border=\"1\" class=\"dataframe\">\n",
       "  <thead>\n",
       "    <tr style=\"text-align: right;\">\n",
       "      <th></th>\n",
       "      <th>date</th>\n",
       "      <th>open</th>\n",
       "      <th>high</th>\n",
       "      <th>low</th>\n",
       "      <th>close</th>\n",
       "      <th>adj_close</th>\n",
       "      <th>volume</th>\n",
       "    </tr>\n",
       "  </thead>\n",
       "  <tbody>\n",
       "    <tr>\n",
       "      <th>0</th>\n",
       "      <td>03-01-2012</td>\n",
       "      <td>1258.859985</td>\n",
       "      <td>1284.619995</td>\n",
       "      <td>1258.859985</td>\n",
       "      <td>1277.060059</td>\n",
       "      <td>1277.060059</td>\n",
       "      <td>3943710000</td>\n",
       "    </tr>\n",
       "    <tr>\n",
       "      <th>1</th>\n",
       "      <td>04-01-2012</td>\n",
       "      <td>1277.030029</td>\n",
       "      <td>1278.729980</td>\n",
       "      <td>1268.099976</td>\n",
       "      <td>1277.300049</td>\n",
       "      <td>1277.300049</td>\n",
       "      <td>3592580000</td>\n",
       "    </tr>\n",
       "    <tr>\n",
       "      <th>2</th>\n",
       "      <td>05-01-2012</td>\n",
       "      <td>1277.300049</td>\n",
       "      <td>1283.050049</td>\n",
       "      <td>1265.260010</td>\n",
       "      <td>1281.060059</td>\n",
       "      <td>1281.060059</td>\n",
       "      <td>4315950000</td>\n",
       "    </tr>\n",
       "    <tr>\n",
       "      <th>3</th>\n",
       "      <td>06-01-2012</td>\n",
       "      <td>1280.930054</td>\n",
       "      <td>1281.839966</td>\n",
       "      <td>1273.339966</td>\n",
       "      <td>1277.810059</td>\n",
       "      <td>1277.810059</td>\n",
       "      <td>3656830000</td>\n",
       "    </tr>\n",
       "    <tr>\n",
       "      <th>4</th>\n",
       "      <td>09-01-2012</td>\n",
       "      <td>1277.829956</td>\n",
       "      <td>1281.989990</td>\n",
       "      <td>1274.550049</td>\n",
       "      <td>1280.699951</td>\n",
       "      <td>1280.699951</td>\n",
       "      <td>3371600000</td>\n",
       "    </tr>\n",
       "  </tbody>\n",
       "</table>\n",
       "</div>"
      ],
      "text/plain": [
       "         date         open         high          low        close  \\\n",
       "0  03-01-2012  1258.859985  1284.619995  1258.859985  1277.060059   \n",
       "1  04-01-2012  1277.030029  1278.729980  1268.099976  1277.300049   \n",
       "2  05-01-2012  1277.300049  1283.050049  1265.260010  1281.060059   \n",
       "3  06-01-2012  1280.930054  1281.839966  1273.339966  1277.810059   \n",
       "4  09-01-2012  1277.829956  1281.989990  1274.550049  1280.699951   \n",
       "\n",
       "     adj_close      volume  \n",
       "0  1277.060059  3943710000  \n",
       "1  1277.300049  3592580000  \n",
       "2  1281.060059  4315950000  \n",
       "3  1277.810059  3656830000  \n",
       "4  1280.699951  3371600000  "
      ]
     },
     "execution_count": 36,
     "metadata": {},
     "output_type": "execute_result"
    }
   ],
   "source": [
    "prices_dataset_train.head()"
   ]
  },
  {
   "cell_type": "code",
   "execution_count": 37,
   "id": "d12ca521",
   "metadata": {},
   "outputs": [
    {
     "data": {
      "text/html": [
       "<div>\n",
       "<style scoped>\n",
       "    .dataframe tbody tr th:only-of-type {\n",
       "        vertical-align: middle;\n",
       "    }\n",
       "\n",
       "    .dataframe tbody tr th {\n",
       "        vertical-align: top;\n",
       "    }\n",
       "\n",
       "    .dataframe thead th {\n",
       "        text-align: right;\n",
       "    }\n",
       "</style>\n",
       "<table border=\"1\" class=\"dataframe\">\n",
       "  <thead>\n",
       "    <tr style=\"text-align: right;\">\n",
       "      <th></th>\n",
       "      <th>date</th>\n",
       "      <th>open</th>\n",
       "      <th>high</th>\n",
       "      <th>low</th>\n",
       "      <th>close</th>\n",
       "      <th>adj_close</th>\n",
       "      <th>volume</th>\n",
       "    </tr>\n",
       "  </thead>\n",
       "  <tbody>\n",
       "    <tr>\n",
       "      <th>0</th>\n",
       "      <td>2017-01-03</td>\n",
       "      <td>2251.570068</td>\n",
       "      <td>2263.879883</td>\n",
       "      <td>2245.129883</td>\n",
       "      <td>2257.830078</td>\n",
       "      <td>2257.830078</td>\n",
       "      <td>3770530000</td>\n",
       "    </tr>\n",
       "    <tr>\n",
       "      <th>1</th>\n",
       "      <td>2017-01-04</td>\n",
       "      <td>2261.600098</td>\n",
       "      <td>2272.820068</td>\n",
       "      <td>2261.600098</td>\n",
       "      <td>2270.750000</td>\n",
       "      <td>2270.750000</td>\n",
       "      <td>3764890000</td>\n",
       "    </tr>\n",
       "    <tr>\n",
       "      <th>2</th>\n",
       "      <td>2017-01-05</td>\n",
       "      <td>2268.179932</td>\n",
       "      <td>2271.500000</td>\n",
       "      <td>2260.449951</td>\n",
       "      <td>2269.000000</td>\n",
       "      <td>2269.000000</td>\n",
       "      <td>3761820000</td>\n",
       "    </tr>\n",
       "    <tr>\n",
       "      <th>3</th>\n",
       "      <td>2017-01-06</td>\n",
       "      <td>2271.139893</td>\n",
       "      <td>2282.100098</td>\n",
       "      <td>2264.060059</td>\n",
       "      <td>2276.979980</td>\n",
       "      <td>2276.979980</td>\n",
       "      <td>3339890000</td>\n",
       "    </tr>\n",
       "    <tr>\n",
       "      <th>4</th>\n",
       "      <td>2017-01-09</td>\n",
       "      <td>2273.590088</td>\n",
       "      <td>2275.489990</td>\n",
       "      <td>2268.899902</td>\n",
       "      <td>2268.899902</td>\n",
       "      <td>2268.899902</td>\n",
       "      <td>3217610000</td>\n",
       "    </tr>\n",
       "  </tbody>\n",
       "</table>\n",
       "</div>"
      ],
      "text/plain": [
       "         date         open         high          low        close  \\\n",
       "0  2017-01-03  2251.570068  2263.879883  2245.129883  2257.830078   \n",
       "1  2017-01-04  2261.600098  2272.820068  2261.600098  2270.750000   \n",
       "2  2017-01-05  2268.179932  2271.500000  2260.449951  2269.000000   \n",
       "3  2017-01-06  2271.139893  2282.100098  2264.060059  2276.979980   \n",
       "4  2017-01-09  2273.590088  2275.489990  2268.899902  2268.899902   \n",
       "\n",
       "     adj_close      volume  \n",
       "0  2257.830078  3770530000  \n",
       "1  2270.750000  3764890000  \n",
       "2  2269.000000  3761820000  \n",
       "3  2276.979980  3339890000  \n",
       "4  2268.899902  3217610000  "
      ]
     },
     "execution_count": 37,
     "metadata": {},
     "output_type": "execute_result"
    }
   ],
   "source": [
    "prices_dataset_test.head()"
   ]
  },
  {
   "cell_type": "code",
   "execution_count": 38,
   "id": "fe05fd90",
   "metadata": {},
   "outputs": [
    {
     "data": {
      "text/plain": [
       "array([[1277.060059],\n",
       "       [1277.300049],\n",
       "       [1281.060059],\n",
       "       ...,\n",
       "       [2249.919922],\n",
       "       [2249.26001 ],\n",
       "       [2238.830078]])"
      ]
     },
     "execution_count": 38,
     "metadata": {},
     "output_type": "execute_result"
    }
   ],
   "source": [
    "trainingset = prices_dataset_train.iloc[:,5:6].values\n",
    "trainingset"
   ]
  },
  {
   "cell_type": "code",
   "execution_count": 39,
   "id": "c2bdf94e",
   "metadata": {},
   "outputs": [
    {
     "data": {
      "text/plain": [
       "array([[2257.830078],\n",
       "       [2270.75    ],\n",
       "       [2269.      ],\n",
       "       [2276.97998 ],\n",
       "       [2268.899902],\n",
       "       [2268.899902],\n",
       "       [2275.320068],\n",
       "       [2270.439941],\n",
       "       [2274.639893],\n",
       "       [2267.889893],\n",
       "       [2271.889893],\n",
       "       [2263.689941],\n",
       "       [2271.310059],\n",
       "       [2265.199951],\n",
       "       [2280.070068],\n",
       "       [2298.370117],\n",
       "       [2296.679932],\n",
       "       [2294.689941],\n",
       "       [2280.899902],\n",
       "       [2278.870117]])"
      ]
     },
     "execution_count": 39,
     "metadata": {},
     "output_type": "execute_result"
    }
   ],
   "source": [
    "testset = prices_dataset_test.iloc[:,5:6].values\n",
    "testset"
   ]
  },
  {
   "cell_type": "code",
   "execution_count": 40,
   "id": "06a6bfd5",
   "metadata": {},
   "outputs": [],
   "source": [
    "#Min-max normalization\n",
    "min_max_scaler = MinMaxScaler(feature_range=(0,1))\n",
    "scaled_trainingset = min_max_scaler.fit_transform(trainingset)"
   ]
  },
  {
   "cell_type": "code",
   "execution_count": 41,
   "id": "cbab90d8",
   "metadata": {},
   "outputs": [],
   "source": [
    "#Creating the training dataset\n",
    "X_train = []\n",
    "y_train = []\n",
    "for i in range(40,1258):\n",
    "    X_train.append(scaled_trainingset[i-40:i,0])  #Timestamp=40\n",
    "    y_train.append(scaled_trainingset[i,0])"
   ]
  },
  {
   "cell_type": "code",
   "execution_count": 42,
   "id": "a423983d",
   "metadata": {},
   "outputs": [],
   "source": [
    "X_train = np.array(X_train)\n",
    "y_train = np.array(y_train)\n",
    "X_train = np.reshape(X_train, (X_train.shape[0],X_train.shape[1],1))"
   ]
  },
  {
   "cell_type": "code",
   "execution_count": 43,
   "id": "2d95c2d7",
   "metadata": {},
   "outputs": [],
   "source": [
    "#Final Training Dataset(array)"
   ]
  },
  {
   "cell_type": "code",
   "execution_count": 44,
   "id": "99a67b99",
   "metadata": {},
   "outputs": [
    {
     "data": {
      "text/plain": [
       "((1218, 40, 1), (1218,))"
      ]
     },
     "execution_count": 44,
     "metadata": {},
     "output_type": "execute_result"
    }
   ],
   "source": [
    "X_train.shape,y_train.shape"
   ]
  },
  {
   "cell_type": "code",
   "execution_count": 45,
   "id": "5cab5e99",
   "metadata": {},
   "outputs": [
    {
     "data": {
      "text/plain": [
       "array([[[0.00000000e+00],\n",
       "        [2.41278448e-04],\n",
       "        [4.02147503e-03],\n",
       "        ...,\n",
       "        [9.10159401e-02],\n",
       "        [9.56306712e-02],\n",
       "        [8.90957743e-02]],\n",
       "\n",
       "       [[2.41278448e-04],\n",
       "        [4.02147503e-03],\n",
       "        [7.54026568e-04],\n",
       "        ...,\n",
       "        [9.56306712e-02],\n",
       "        [8.90957743e-02],\n",
       "        [9.75508371e-02]],\n",
       "\n",
       "       [[4.02147503e-03],\n",
       "        [7.54026568e-04],\n",
       "        [3.65943370e-03],\n",
       "        ...,\n",
       "        [8.90957743e-02],\n",
       "        [9.75508371e-02],\n",
       "        [9.30669316e-02]],\n",
       "\n",
       "       ...,\n",
       "\n",
       "       [[8.53648401e-01],\n",
       "        [8.39140999e-01],\n",
       "        [8.25286987e-01],\n",
       "        ...,\n",
       "        [9.89182222e-01],\n",
       "        [9.92027494e-01],\n",
       "        [9.97144664e-01]],\n",
       "\n",
       "       [[8.39140999e-01],\n",
       "        [8.25286987e-01],\n",
       "        [8.15957136e-01],\n",
       "        ...,\n",
       "        [9.92027494e-01],\n",
       "        [9.97144664e-01],\n",
       "        [9.78082912e-01]],\n",
       "\n",
       "       [[8.25286987e-01],\n",
       "        [8.15957136e-01],\n",
       "        [8.12458473e-01],\n",
       "        ...,\n",
       "        [9.97144664e-01],\n",
       "        [9.78082912e-01],\n",
       "        [9.77419457e-01]]])"
      ]
     },
     "execution_count": 45,
     "metadata": {},
     "output_type": "execute_result"
    }
   ],
   "source": [
    "X_train"
   ]
  },
  {
   "cell_type": "code",
   "execution_count": 46,
   "id": "b94bdd24",
   "metadata": {},
   "outputs": [
    {
     "data": {
      "text/plain": [
       "array([0.09755084, 0.09306693, 0.08773843, ..., 0.97808291, 0.97741946,\n",
       "       0.96693353])"
      ]
     },
     "execution_count": 46,
     "metadata": {},
     "output_type": "execute_result"
    }
   ],
   "source": [
    "y_train"
   ]
  },
  {
   "cell_type": "markdown",
   "id": "b78fbf2a",
   "metadata": {},
   "source": [
    "# Building the LSTM Model"
   ]
  },
  {
   "cell_type": "code",
   "execution_count": 47,
   "id": "f7d1e9bb",
   "metadata": {},
   "outputs": [],
   "source": [
    "model = Sequential()\n",
    "model.add(LSTM(units=100, return_sequences=True, input_shape=(X_train.shape[1],1)))\n",
    "model.add(Dropout(0.5))\n",
    "model.add(LSTM(units=50, return_sequences=True))\n",
    "model.add(Dropout(0.3))\n",
    "model.add(LSTM(units=50))\n",
    "model.add(Dropout(0.3))\n",
    "model.add(Dense(units=1))"
   ]
  },
  {
   "cell_type": "code",
   "execution_count": 48,
   "id": "59ee5e90",
   "metadata": {},
   "outputs": [
    {
     "name": "stdout",
     "output_type": "stream",
     "text": [
      "Epoch 1/100\n",
      "39/39 [==============================] - 7s 40ms/step - loss: 0.0639\n",
      "Epoch 2/100\n",
      "39/39 [==============================] - 2s 40ms/step - loss: 0.0088\n",
      "Epoch 3/100\n",
      "39/39 [==============================] - 2s 43ms/step - loss: 0.0098\n",
      "Epoch 4/100\n",
      "39/39 [==============================] - 2s 41ms/step - loss: 0.0074\n",
      "Epoch 5/100\n",
      "39/39 [==============================] - 2s 41ms/step - loss: 0.0062\n",
      "Epoch 6/100\n",
      "39/39 [==============================] - 2s 41ms/step - loss: 0.0064\n",
      "Epoch 7/100\n",
      "39/39 [==============================] - 2s 42ms/step - loss: 0.0058\n",
      "Epoch 8/100\n",
      "39/39 [==============================] - 2s 41ms/step - loss: 0.0059\n",
      "Epoch 9/100\n",
      "39/39 [==============================] - 2s 41ms/step - loss: 0.0055\n",
      "Epoch 10/100\n",
      "39/39 [==============================] - 2s 40ms/step - loss: 0.0055\n",
      "Epoch 11/100\n",
      "39/39 [==============================] - 2s 39ms/step - loss: 0.0061\n",
      "Epoch 12/100\n",
      "39/39 [==============================] - 2s 40ms/step - loss: 0.0058\n",
      "Epoch 13/100\n",
      "39/39 [==============================] - 2s 39ms/step - loss: 0.0056\n",
      "Epoch 14/100\n",
      "39/39 [==============================] - 2s 38ms/step - loss: 0.0050\n",
      "Epoch 15/100\n",
      "39/39 [==============================] - 1s 38ms/step - loss: 0.0052\n",
      "Epoch 16/100\n",
      "39/39 [==============================] - 2s 40ms/step - loss: 0.0051\n",
      "Epoch 17/100\n",
      "39/39 [==============================] - 2s 38ms/step - loss: 0.0047\n",
      "Epoch 18/100\n",
      "39/39 [==============================] - 2s 44ms/step - loss: 0.0047\n",
      "Epoch 19/100\n",
      "39/39 [==============================] - 2s 42ms/step - loss: 0.0048\n",
      "Epoch 20/100\n",
      "39/39 [==============================] - 2s 40ms/step - loss: 0.0048\n",
      "Epoch 21/100\n",
      "39/39 [==============================] - 2s 38ms/step - loss: 0.0048\n",
      "Epoch 22/100\n",
      "39/39 [==============================] - 2s 41ms/step - loss: 0.0042\n",
      "Epoch 23/100\n",
      "39/39 [==============================] - 2s 42ms/step - loss: 0.0046\n",
      "Epoch 24/100\n",
      "39/39 [==============================] - 2s 43ms/step - loss: 0.0049\n",
      "Epoch 25/100\n",
      "39/39 [==============================] - 2s 45ms/step - loss: 0.0048\n",
      "Epoch 26/100\n",
      "39/39 [==============================] - 2s 46ms/step - loss: 0.0041\n",
      "Epoch 27/100\n",
      "39/39 [==============================] - 2s 45ms/step - loss: 0.0042\n",
      "Epoch 28/100\n",
      "39/39 [==============================] - 2s 42ms/step - loss: 0.0052\n",
      "Epoch 29/100\n",
      "39/39 [==============================] - 2s 40ms/step - loss: 0.0040\n",
      "Epoch 30/100\n",
      "39/39 [==============================] - 2s 40ms/step - loss: 0.0041\n",
      "Epoch 31/100\n",
      "39/39 [==============================] - 2s 39ms/step - loss: 0.0056\n",
      "Epoch 32/100\n",
      "39/39 [==============================] - 2s 39ms/step - loss: 0.0047\n",
      "Epoch 33/100\n",
      "39/39 [==============================] - 2s 38ms/step - loss: 0.0036\n",
      "Epoch 34/100\n",
      "39/39 [==============================] - 2s 39ms/step - loss: 0.0040\n",
      "Epoch 35/100\n",
      "39/39 [==============================] - 2s 40ms/step - loss: 0.0037\n",
      "Epoch 36/100\n",
      "39/39 [==============================] - 2s 40ms/step - loss: 0.0037\n",
      "Epoch 37/100\n",
      "39/39 [==============================] - 2s 41ms/step - loss: 0.0043\n",
      "Epoch 38/100\n",
      "39/39 [==============================] - 2s 43ms/step - loss: 0.0035\n",
      "Epoch 39/100\n",
      "39/39 [==============================] - 2s 43ms/step - loss: 0.0037\n",
      "Epoch 40/100\n",
      "39/39 [==============================] - 2s 39ms/step - loss: 0.0041\n",
      "Epoch 41/100\n",
      "39/39 [==============================] - 2s 41ms/step - loss: 0.0033\n",
      "Epoch 42/100\n",
      "39/39 [==============================] - 2s 45ms/step - loss: 0.0033\n",
      "Epoch 43/100\n",
      "39/39 [==============================] - 2s 42ms/step - loss: 0.0031\n",
      "Epoch 44/100\n",
      "39/39 [==============================] - 2s 39ms/step - loss: 0.0033\n",
      "Epoch 45/100\n",
      "39/39 [==============================] - 2s 50ms/step - loss: 0.0032\n",
      "Epoch 46/100\n",
      "39/39 [==============================] - 2s 46ms/step - loss: 0.0031\n",
      "Epoch 47/100\n",
      "39/39 [==============================] - 2s 45ms/step - loss: 0.0029\n",
      "Epoch 48/100\n",
      "39/39 [==============================] - 2s 46ms/step - loss: 0.0029\n",
      "Epoch 49/100\n",
      "39/39 [==============================] - 2s 47ms/step - loss: 0.0032\n",
      "Epoch 50/100\n",
      "39/39 [==============================] - 2s 45ms/step - loss: 0.0031\n",
      "Epoch 51/100\n",
      "39/39 [==============================] - 2s 49ms/step - loss: 0.0031\n",
      "Epoch 52/100\n",
      "39/39 [==============================] - 2s 58ms/step - loss: 0.0029\n",
      "Epoch 53/100\n",
      "39/39 [==============================] - 2s 59ms/step - loss: 0.0032\n",
      "Epoch 54/100\n",
      "39/39 [==============================] - 2s 51ms/step - loss: 0.0027\n",
      "Epoch 55/100\n",
      "39/39 [==============================] - 2s 57ms/step - loss: 0.0028\n",
      "Epoch 56/100\n",
      "39/39 [==============================] - 3s 64ms/step - loss: 0.0025\n",
      "Epoch 57/100\n",
      "39/39 [==============================] - 3s 73ms/step - loss: 0.0028\n",
      "Epoch 58/100\n",
      "39/39 [==============================] - 3s 76ms/step - loss: 0.0031\n",
      "Epoch 59/100\n",
      "39/39 [==============================] - 2s 62ms/step - loss: 0.0028\n",
      "Epoch 60/100\n",
      "39/39 [==============================] - 2s 59ms/step - loss: 0.0027\n",
      "Epoch 61/100\n",
      "39/39 [==============================] - 2s 47ms/step - loss: 0.0025\n",
      "Epoch 62/100\n",
      "39/39 [==============================] - 2s 49ms/step - loss: 0.0027\n",
      "Epoch 63/100\n",
      "39/39 [==============================] - 2s 47ms/step - loss: 0.0026\n",
      "Epoch 64/100\n",
      "39/39 [==============================] - 2s 45ms/step - loss: 0.0039\n",
      "Epoch 65/100\n",
      "39/39 [==============================] - 2s 57ms/step - loss: 0.0022\n",
      "Epoch 66/100\n",
      "39/39 [==============================] - 2s 57ms/step - loss: 0.0024\n",
      "Epoch 67/100\n",
      "39/39 [==============================] - 3s 66ms/step - loss: 0.0026\n",
      "Epoch 68/100\n",
      "39/39 [==============================] - 2s 61ms/step - loss: 0.0036\n",
      "Epoch 69/100\n",
      "39/39 [==============================] - 2s 46ms/step - loss: 0.0024\n",
      "Epoch 70/100\n",
      "39/39 [==============================] - 2s 54ms/step - loss: 0.0025\n",
      "Epoch 71/100\n",
      "39/39 [==============================] - 2s 46ms/step - loss: 0.0025\n",
      "Epoch 72/100\n",
      "39/39 [==============================] - 2s 53ms/step - loss: 0.0024\n",
      "Epoch 73/100\n",
      "39/39 [==============================] - 2s 58ms/step - loss: 0.0022\n",
      "Epoch 74/100\n",
      "39/39 [==============================] - 3s 69ms/step - loss: 0.0023\n",
      "Epoch 75/100\n",
      "39/39 [==============================] - 3s 69ms/step - loss: 0.0024\n",
      "Epoch 76/100\n",
      "39/39 [==============================] - 2s 63ms/step - loss: 0.0022\n",
      "Epoch 77/100\n",
      "39/39 [==============================] - 2s 57ms/step - loss: 0.0020\n",
      "Epoch 78/100\n",
      "39/39 [==============================] - 3s 70ms/step - loss: 0.0020\n",
      "Epoch 79/100\n",
      "39/39 [==============================] - 2s 50ms/step - loss: 0.0021\n",
      "Epoch 80/100\n",
      "39/39 [==============================] - 3s 65ms/step - loss: 0.0022\n",
      "Epoch 81/100\n",
      "39/39 [==============================] - 2s 55ms/step - loss: 0.0021\n",
      "Epoch 82/100\n",
      "39/39 [==============================] - 2s 42ms/step - loss: 0.0021\n",
      "Epoch 83/100\n",
      "39/39 [==============================] - 2s 43ms/step - loss: 0.0022\n",
      "Epoch 84/100\n",
      "39/39 [==============================] - 2s 43ms/step - loss: 0.0023\n",
      "Epoch 85/100\n",
      "39/39 [==============================] - 2s 42ms/step - loss: 0.0021\n",
      "Epoch 86/100\n",
      "39/39 [==============================] - 2s 46ms/step - loss: 0.0022\n",
      "Epoch 87/100\n",
      "39/39 [==============================] - 2s 47ms/step - loss: 0.0021\n",
      "Epoch 88/100\n",
      "39/39 [==============================] - 2s 48ms/step - loss: 0.0021\n",
      "Epoch 89/100\n",
      "39/39 [==============================] - 2s 48ms/step - loss: 0.0020\n",
      "Epoch 90/100\n",
      "39/39 [==============================] - 2s 48ms/step - loss: 0.0020\n",
      "Epoch 91/100\n",
      "39/39 [==============================] - 2s 52ms/step - loss: 0.0019\n",
      "Epoch 92/100\n",
      "39/39 [==============================] - 2s 51ms/step - loss: 0.0020\n",
      "Epoch 93/100\n",
      "39/39 [==============================] - 2s 51ms/step - loss: 0.0021\n",
      "Epoch 94/100\n",
      "39/39 [==============================] - 2s 52ms/step - loss: 0.0018\n",
      "Epoch 95/100\n",
      "39/39 [==============================] - 2s 46ms/step - loss: 0.0021\n",
      "Epoch 96/100\n",
      "39/39 [==============================] - 2s 42ms/step - loss: 0.0020\n",
      "Epoch 97/100\n",
      "39/39 [==============================] - 2s 44ms/step - loss: 0.0020\n",
      "Epoch 98/100\n",
      "39/39 [==============================] - 2s 44ms/step - loss: 0.0021\n",
      "Epoch 99/100\n",
      "39/39 [==============================] - 2s 46ms/step - loss: 0.0019\n",
      "Epoch 100/100\n",
      "39/39 [==============================] - 2s 50ms/step - loss: 0.0019\n"
     ]
    },
    {
     "data": {
      "text/plain": [
       "<keras.callbacks.History at 0x23a6ddcc6d0>"
      ]
     },
     "execution_count": 48,
     "metadata": {},
     "output_type": "execute_result"
    }
   ],
   "source": [
    "model.compile(optimizer='adam', loss='mean_squared_error')\n",
    "model.fit(X_train, y_train, epochs=100, batch_size=32)"
   ]
  },
  {
   "cell_type": "markdown",
   "id": "45e06224",
   "metadata": {},
   "source": [
    "# Model Testing"
   ]
  },
  {
   "cell_type": "code",
   "execution_count": 52,
   "id": "1f482df3",
   "metadata": {},
   "outputs": [],
   "source": [
    "#Training set plus Testset"
   ]
  },
  {
   "cell_type": "code",
   "execution_count": 53,
   "id": "674ed3a2",
   "metadata": {},
   "outputs": [],
   "source": [
    "dataset_total = pd.concat((prices_dataset_train['adj_close'],prices_dataset_test['adj_close']), axis=0) "
   ]
  },
  {
   "cell_type": "code",
   "execution_count": 54,
   "id": "8bc9cc2b",
   "metadata": {},
   "outputs": [
    {
     "data": {
      "text/plain": [
       "(1278,)"
      ]
     },
     "execution_count": 54,
     "metadata": {},
     "output_type": "execute_result"
    }
   ],
   "source": [
    "dataset_total.shape"
   ]
  },
  {
   "cell_type": "code",
   "execution_count": 55,
   "id": "6fa89705",
   "metadata": {},
   "outputs": [
    {
     "data": {
      "text/plain": [
       "array([2088.659912, 2085.179932, 2131.52002 , 2139.560059, 2163.26001 ,\n",
       "       2167.47998 , 2164.449951, 2164.199951, 2180.389893, 2176.939941,\n",
       "       2187.120117, 2181.899902, 2198.179932, 2202.939941, 2204.719971,\n",
       "       2213.350098, 2201.719971, 2204.659912, 2198.810059, 2191.080078,\n",
       "       2191.949951, 2204.709961, 2212.22998 , 2241.350098, 2246.189941,\n",
       "       2259.530029, 2256.959961, 2271.719971, 2253.280029, 2262.030029,\n",
       "       2258.070068, 2262.530029, 2270.76001 , 2265.179932, 2260.959961,\n",
       "       2263.790039, 2268.879883, 2249.919922, 2249.26001 , 2238.830078,\n",
       "       2257.830078, 2270.75    , 2269.      , 2276.97998 , 2268.899902,\n",
       "       2268.899902, 2275.320068, 2270.439941, 2274.639893, 2267.889893,\n",
       "       2271.889893, 2263.689941, 2271.310059, 2265.199951, 2280.070068,\n",
       "       2298.370117, 2296.679932, 2294.689941, 2280.899902, 2278.870117])"
      ]
     },
     "execution_count": 55,
     "metadata": {},
     "output_type": "execute_result"
    }
   ],
   "source": [
    "#All inputs for test set\n",
    "inputs = dataset_total[len(dataset_total)-len(prices_dataset_test)-40:].values    #last 60 values from row no 1218 to last\n",
    "inputs"
   ]
  },
  {
   "cell_type": "code",
   "execution_count": 56,
   "id": "94f1ed4a",
   "metadata": {},
   "outputs": [
    {
     "data": {
      "text/plain": [
       "(60, 1)"
      ]
     },
     "execution_count": 56,
     "metadata": {},
     "output_type": "execute_result"
    }
   ],
   "source": [
    "inputs = inputs.reshape(-1,1)\n",
    "inputs.shape"
   ]
  },
  {
   "cell_type": "code",
   "execution_count": 57,
   "id": "07cc011c",
   "metadata": {},
   "outputs": [],
   "source": [
    "inputs = min_max_scaler.transform(inputs)      "
   ]
  },
  {
   "cell_type": "code",
   "execution_count": 58,
   "id": "43500bf4",
   "metadata": {},
   "outputs": [],
   "source": [
    "X_test = []\n",
    "for i in range(40,len(prices_dataset_test)+40):\n",
    "    X_test.append(inputs[i-40:i,0])\n",
    "    \n",
    "X_test = np.array(X_test)\n",
    "X_test = np.reshape(X_test, (X_test.shape[0],X_test.shape[1],1))"
   ]
  },
  {
   "cell_type": "code",
   "execution_count": 59,
   "id": "9f767362",
   "metadata": {},
   "outputs": [
    {
     "name": "stdout",
     "output_type": "stream",
     "text": [
      "1/1 [==============================] - 1s 1s/step\n"
     ]
    },
    {
     "data": {
      "text/plain": [
       "array([[2238.716 ],\n",
       "       [2235.845 ],\n",
       "       [2236.1536],\n",
       "       [2239.1597],\n",
       "       [2244.3992],\n",
       "       [2249.443 ],\n",
       "       [2252.9788],\n",
       "       [2255.244 ],\n",
       "       [2255.8547],\n",
       "       [2255.636 ],\n",
       "       [2254.4216],\n",
       "       [2253.137 ],\n",
       "       [2251.3984],\n",
       "       [2250.3408],\n",
       "       [2249.5637],\n",
       "       [2250.588 ],\n",
       "       [2255.0447],\n",
       "       [2261.5662],\n",
       "       [2268.0781],\n",
       "       [2271.6177]], dtype=float32)"
      ]
     },
     "execution_count": 59,
     "metadata": {},
     "output_type": "execute_result"
    }
   ],
   "source": [
    "predictions = model.predict(X_test)\n",
    "predictions = min_max_scaler.inverse_transform(predictions)\n",
    "predictions"
   ]
  },
  {
   "cell_type": "code",
   "execution_count": 60,
   "id": "fdddfc79",
   "metadata": {},
   "outputs": [
    {
     "data": {
      "image/png": "[encoded data removed]",
      "text/plain": [
       "<Figure size 432x288 with 1 Axes>"
      ]
     },
     "metadata": {
      "needs_background": "light"
     },
     "output_type": "display_data"
    }
   ],
   "source": [
    "plt.plot(testset, color='blue', label='Actual S&P500 Prices')\n",
    "plt.plot(predictions, color='green', label='LSTM Predictions')\n",
    "plt.title('S&P500 Predictions with Reccurent Neural Network')\n",
    "plt.xlabel('Time')\n",
    "plt.ylabel('Price')\n",
    "plt.legend()\n",
    "plt.show()"
   ]
  },
  {
   "cell_type": "code",
   "execution_count": null,
   "id": "b85a668e",
   "metadata": {},
   "outputs": [],
   "source": []
  },
  {
   "cell_type": "code",
   "execution_count": null,
   "id": "147850e3",
   "metadata": {},
   "outputs": [],
   "source": []
  },
  {
   "cell_type": "code",
   "execution_count": null,
   "id": "a2d58ed5",
   "metadata": {},
   "outputs": [],
   "source": []
  },
  {
   "cell_type": "code",
   "execution_count": null,
   "id": "d9e6e26a",
   "metadata": {},
   "outputs": [],
   "source": []
  },
  {
   "cell_type": "code",
   "execution_count": null,
   "id": "101ce40c",
   "metadata": {},
   "outputs": [],
   "source": []
  }
 ],
 "metadata": {
  "kernelspec": {
   "display_name": "Python 3 (ipykernel)",
   "language": "python",
   "name": "python3"
  },
  "language_info": {
   "codemirror_mode": {
    "name": "ipython",
    "version": 3
   },
   "file_extension": ".py",
   "mimetype": "text/x-python",
   "name": "python",
   "nbconvert_exporter": "python",
   "pygments_lexer": "ipython3",
   "version": "3.9.12"
  }
 },
 "nbformat": 4,
 "nbformat_minor": 5
}
